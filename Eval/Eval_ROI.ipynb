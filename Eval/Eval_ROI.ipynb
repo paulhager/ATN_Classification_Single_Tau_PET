{
 "cells": [
  {
   "cell_type": "markdown",
   "id": "803b3180",
   "metadata": {},
   "source": [
    "# Functions"
   ]
  },
  {
   "cell_type": "code",
   "execution_count": null,
   "id": "ec99c113-6727-4ada-8b83-9aabb45db18f",
   "metadata": {},
   "outputs": [],
   "source": [
    "import torch\n",
    "import seaborn as sns\n",
    "import os\n",
    "from matplotlib import pyplot as plt\n",
    "import pandas as pd\n",
    "import numpy as np\n",
    "import scipy\n",
    "from sklearn import metrics\n",
    "from scipy.stats import pearsonr\n",
    "#from ROIPredictor import RoiPredictor\n",
    "from torch import nn\n",
    "%matplotlib inline"
   ]
  },
  {
   "cell_type": "code",
   "execution_count": null,
   "id": "5b8e65e7",
   "metadata": {},
   "outputs": [],
   "source": [
    "BASE = '/home/guests/paul_hager/Projects/ATN_Classification/'"
   ]
  },
  {
   "cell_type": "code",
   "execution_count": null,
   "id": "deadefa1-0a41-485b-8aeb-a68cfac2d377",
   "metadata": {},
   "outputs": [],
   "source": [
    "def plotAllPred(df, target):\n",
    "    sns.set(font_scale=1.5)\n",
    "    g = sns.displot(data = df, x='{} GT ROI SUVR'.format(target), y='{} Pred ROI SUVR'.format(target), height=10, aspect=1.5, cbar=True)\n",
    "    max_val = max(max(df['{} GT ROI SUVR'.format(target)].values),max(df['{} Pred ROI SUVR'.format(target)].values))\n",
    "    g.set_axis_labels('Amyloid SUVR GT','Amyloid SUVR Prediction')\n",
    "    g.set(ylim=(0,max_val))\n",
    "    g.set(xlim=(0,max_val))\n",
    "    plt.plot([0,max_val],[0,max_val], linewidth=1, color='red')\n",
    "    #plt.show()"
   ]
  },
  {
   "cell_type": "code",
   "execution_count": null,
   "id": "8ae4abe0-23ad-45b6-8f32-bb36429d4903",
   "metadata": {},
   "outputs": [],
   "source": [
    "def plotAllPred_density(df, target):\n",
    "    sns.set(font_scale=1.5)\n",
    "    g = sns.displot(data = df, x='{} GT ROI SUVR'.format(target), y='{} Pred ROI SUVR'.format(target), height=10, aspect=1.5, cbar=True)\n",
    "    max_val = max(max(df['{} GT ROI SUVR'.format(target)].values),max(df['{} Pred ROI SUVR'.format(target)].values))\n",
    "    g.set_axis_labels('Gray Matter Density GT','Gray Matter Density Prediction')\n",
    "    g.set(ylim=(0.4,max_val))\n",
    "    g.set(xlim=(0.4,max_val))\n",
    "    plt.plot([0,max_val],[0,max_val], linewidth=1, color='red')\n",
    "    #plt.show()"
   ]
  },
  {
   "cell_type": "code",
   "execution_count": null,
   "id": "ecd08a08-ac86-4ef9-a2b5-544b18c9c6b7",
   "metadata": {},
   "outputs": [],
   "source": [
    "def Calc_FBB_From_AV45(AV45_SUVR):\n",
    "    return (1.2377*AV45_SUVR) - 0.279"
   ]
  },
  {
   "cell_type": "code",
   "execution_count": null,
   "id": "3979bcff-ffa0-488e-8a84-542121643044",
   "metadata": {},
   "outputs": [],
   "source": [
    "def Calc_Global_SUVR(row, target):\n",
    "    avg_suvr = 0\n",
    "    for i in range(1,201):\n",
    "        avg_suvr += row['{} ROI {}'.format(target,i)]\n",
    "    avg_suvr = avg_suvr / 200\n",
    "    return avg_suvr"
   ]
  },
  {
   "cell_type": "code",
   "execution_count": null,
   "id": "d11948ab-333c-4a0b-ad30-07de982bcf61",
   "metadata": {},
   "outputs": [],
   "source": [
    "def Calc_Global_SUVR_dkt(row, target):\n",
    "    avg_suvr = 0\n",
    "    for i in dktLabels:\n",
    "        avg_suvr += row['{} ROI {}'.format(target,i)]\n",
    "    avg_suvr = avg_suvr / len(dktLabels)\n",
    "    return avg_suvr"
   ]
  },
  {
   "cell_type": "code",
   "execution_count": null,
   "id": "d8fb9537-4a9c-4090-ac35-f359b7b5e330",
   "metadata": {},
   "outputs": [],
   "source": [
    "def Calc_Abeta_SUVR(row, target):\n",
    "    avg_suvr = 0\n",
    "    for i in abetaDKTLabels:\n",
    "        avg_suvr += row['{} ROI {}'.format(target,i)]\n",
    "    avg_suvr = avg_suvr / len(abetaDKTLabels)\n",
    "    return avg_suvr"
   ]
  },
  {
   "cell_type": "code",
   "execution_count": null,
   "id": "4ce10945-0920-4f2b-830b-8ed248dad2e3",
   "metadata": {},
   "outputs": [],
   "source": [
    "def calc_total_vol(row):\n",
    "    regions = [4001, 4002, 4011, 4012, 4021, 4022, 4101, 4102, 4111, 4112, 4201, 4202] # Entire medial temporal lobe\n",
    "    regions = [4101,4102] # Hippocampus only\n",
    "    total = 0\n",
    "    for l in regions:\n",
    "        total += row['GM Volume ROI {}'.format(l)]\n",
    "    return total"
   ]
  },
  {
   "cell_type": "code",
   "execution_count": null,
   "id": "f68f8c97-bb2b-41e1-88ab-a7d0a0cacb57",
   "metadata": {},
   "outputs": [],
   "source": [
    "cutoff_abeta_av45 = 1.11\n",
    "cutoff_tau = 1.3\n",
    "\n",
    "\n",
    "\n",
    "commonLabels = [2001, 2002, 2101, 2102, 2111, 2112, 2201, 2202, 2211, 2212, 2301, 2302, 2311, 2312, 2321, 2322, 2331, 2332, 2401, 2402, 2501, 2502, 2601, 2602, 2611, 2612, 2701, 2702, 3001, 3002, 4001, 4002, 4011, 4012, 4021, 4022, 4101, 4102, 4111, 4112, 4201, 4202, 5001, 5002, 5011, 5012, 5021, 5022, 5101, 5102, 5201, 5202, 5301, 5302, 5401, 5402, 6001, 6002, 6101, 6102, 6201, 6202, 6211, 6212, 6221, 6222, 6301, 6302, 6401, 6402, 7001, 7002, 7011, 7012, 7021, 7022, 7101, 7102, 8101, 8102, 8111, 8112, 8121, 8122, 8201, 8202, 8211, 8212, 8301, 8302, 9001, 9002, 9022, 9031, 9032, 9041, 9042, 9120]\n",
    "dktLabels = [2,4,5,7,8,10,11,12,13,14,15,16,17,18,24,26,28,30,31,41,43,44,46,47,49,50,51,52,53,54,58,60,62,63,77,85,251,252,253,254,255,1000,1002,1003,1005,1006,1007,1008,1009,1010,1011,1012,1013,1014,1015,1016,1017,1018,1019,1020,1021,1022,1023,1024,1025,1026,1027,1028,1029,1030,1031,1034,1035,2000,2002,2003,2005,2006,2007,2008,2009,2010,2011,2012,2013,2014,2015,2016,2017,2018,2019,2020,2021,2022,2023,2024,2025,2026,2027,2028,2029,2030,2031,2034,2035]\n",
    "abetaDKTLabels = [1003, 1012, 1014, 1018, 1019, 1020, \n",
    "    1027, 1028, 2003, 2012, 2014, 2018, \n",
    "    2019, 2020, 2027, 2028, 1002, 1010, \n",
    "    1023, 1026, 2002, 2010, 2023, 2026, \n",
    "    1008, 1025, 1029, 1031, 2008, 2025, \n",
    "    2029, 2031, 1015, 1030, 2015, 2030]"
   ]
  },
  {
   "cell_type": "code",
   "execution_count": null,
   "id": "e4e95778-07f2-468d-b7cb-2b76e06583d7",
   "metadata": {},
   "outputs": [],
   "source": [
    "len(commonLabels)"
   ]
  },
  {
   "cell_type": "markdown",
   "id": "39c37ab7-2a80-4057-a84f-7a200055878d",
   "metadata": {},
   "source": [
    "# Eval - CSV"
   ]
  },
  {
   "cell_type": "markdown",
   "id": "9214e5a4-da1c-4a8a-93fb-95accf8a91f7",
   "metadata": {},
   "source": [
    "## GM Volume"
   ]
  },
  {
   "cell_type": "markdown",
   "id": "170cc2d4-15f0-49d5-ab39-d58a0d32630c",
   "metadata": {},
   "source": [
    "### Binary"
   ]
  },
  {
   "cell_type": "code",
   "execution_count": null,
   "id": "078dd210-24e3-4a75-bfaa-001727ee5042",
   "metadata": {},
   "outputs": [],
   "source": [
    "name = 'roi_predictor/csv/binary/gmvolume/version_13'\n",
    "splits = 'splits_volume'\n",
    "target = 'gmvolume'\n",
    "\n",
    "all_results_df = pd.DataFrame(columns=['{} GT'.format(target), '{} Pred'.format(target)])\n",
    "\n",
    "for i in range(5,6):\n",
    "    gt = 'split_{}'.format(i)\n",
    "    val_f = f'{BASE}/data/{}/split_{}.csv'.format(splits,i) # MAKE SURE CORRECT SPLIT\n",
    "    preds_f = f'{BASE}/tb_logs/{}/{}/preds.csv'.format(name,gt)\n",
    "\n",
    "    with open(val_f, \"r\") as f:\n",
    "        gts = f.readlines()\n",
    "    gt_target = [int(x.strip().split(',')[-1]) for x in gts]\n",
    "    \n",
    "    with open(preds_f, \"r\") as f:\n",
    "        preds = f.readlines()\n",
    "    preds = [int(x.strip()) for x in preds]\n",
    "    \n",
    "    results_df = pd.DataFrame({'{} GT'.format(target):gt_target, '{} Pred'.format(target):preds})\n",
    "    \n",
    "    all_results_df = pd.concat([all_results_df,results_df])\n",
    "\n",
    "    print(metrics.f1_score(results_df['{} GT'.format(target)], results_df['{} Pred'.format(target)]))"
   ]
  },
  {
   "cell_type": "markdown",
   "id": "17a7a019-d679-4566-9335-4d267762774a",
   "metadata": {},
   "source": [
    "### ROI"
   ]
  },
  {
   "cell_type": "code",
   "execution_count": null,
   "id": "ffcbbe18-4edb-4976-b316-211498519093",
   "metadata": {
    "tags": []
   },
   "outputs": [],
   "source": [
    "name = 'roi_predictor/csv/roi/gmvolume/version_22'\n",
    "target = 'gmvolume'\n",
    "nontarget = 'Tau'\n",
    "splits = 'splits_volume_ATN_schaefer'\n",
    "all_results_df = pd.DataFrame(columns = ['{} GT ROI SUVR'.format(target),'{} Pred ROI SUVR'.format(target),'{} GT ROI SUVR'.format(nontarget)])\n",
    "\n",
    "gt_hip_vols = []\n",
    "pred_hip_vols = []\n",
    "\n",
    "for i in range(5,6):\n",
    "    gt = 'split_{}'.format(i)\n",
    "    val_f = f'{BASE}/data/{}/{}.csv'.format(splits,gt) # MAKE SURE CORRECT SPLIT\n",
    "    preds_f = f'{BASE}/tb_logs/{}/{}/preds.csv'.format(name,gt)\n",
    "\n",
    "    header_gt = ['Female','Male','Age','33','34','44','24','23','22']\n",
    "    header_gt.extend(['Tau ROI {}'.format(x) for x in range(1,201)])\n",
    "    #header_gt.extend(['Tau ROI {}'.format(x) for x in dktLabels])\n",
    "    header_gt.extend(['GM Volume ROI {}'.format(x) for x in commonLabels])\n",
    "    header_preds = ['GM Volume ROI {}'.format(x) for x in commonLabels]\n",
    "\n",
    "    gt_df = pd.read_csv(val_f, names=header_gt)\n",
    "    pred_df = pd.read_csv(preds_f, names=header_preds)\n",
    "    \n",
    "    #gt_df = gt_df[(gt_df.iloc[:,0]=='GM Volume ROI 4101')|(gt_df.iloc[:,0]=='GM Volume ROI 4102')]\n",
    "    #pred_df = pred_df[(pred_df.iloc[:,0]=='GM Volume ROI 4101')|(pred_df.iloc[:,0]=='GM Volume ROI 4102')]\n",
    "    \n",
    "    gt_df['Hip Volume'] = gt_df.apply(lambda row: calc_total_vol(row),axis=1)\n",
    "    pred_df['Hip Volume'] = pred_df.apply(lambda row: calc_total_vol(row),axis=1)\n",
    "    gt_hip_vols.extend(gt_df['Hip Volume'])\n",
    "    pred_hip_vols.extend(pred_df['Hip Volume'])\n",
    "\n",
    "    gt_roi_melt_df = pd.melt(gt_df, value_vars = header_preds, value_name='{} GT ROI SUVR'.format(target))\n",
    "    pred_roi_melt_df = pd.melt(pred_df, value_vars = header_preds, value_name='{} Pred ROI SUVR'.format(target))\n",
    "    results_df = pd.concat([gt_roi_melt_df,pred_roi_melt_df],axis=1)\n",
    "    all_results_df = pd.concat([all_results_df,results_df[['{} GT ROI SUVR'.format(target),'{} Pred ROI SUVR'.format(target)]]])\n",
    "\n",
    "    plotAllPred(results_df, target)\n",
    "    outp = os.path.join(os.path.dirname(preds_f),'density.jpg')\n",
    "    plt.savefig(outp)\n",
    "    \n",
    "gt_df_gmdensity = gt_df.copy(deep=True)"
   ]
  },
  {
   "cell_type": "code",
   "execution_count": null,
   "id": "5c3caeeb-44b9-4fc2-978d-f7b9cbd2eb97",
   "metadata": {
    "tags": []
   },
   "outputs": [],
   "source": [
    "#plotAllPred(all_results_df, target)\n",
    "plotAllPred_density(all_results_df, target)\n",
    "r = pearsonr(all_results_df['gmvolume Pred ROI SUVR'],all_results_df['gmvolume GT ROI SUVR'])\n",
    "print(r)\n",
    "plt.savefig(os.path.join(f'{BASE}/tb_logs',name,'all_splits_density.jpg'))"
   ]
  },
  {
   "cell_type": "markdown",
   "id": "4bb5b07e-a732-4790-b25d-0265516b6f38",
   "metadata": {},
   "source": [
    "#### Calc Summary Metrics"
   ]
  },
  {
   "cell_type": "code",
   "execution_count": null,
   "id": "cdd97626-0b58-4c33-a790-f6bda4a5ef23",
   "metadata": {},
   "outputs": [],
   "source": [
    "hip_vols_df = pd.DataFrame({'GT':gt_hip_vols,'Pred':pred_hip_vols})\n",
    "if True:\n",
    "    cutoff = 1.514 # 1.5 std (0.09655) away from mean (1.659)\n",
    "    cutoff = 1.562 # 1 std away from mean\n",
    "cutoff = 1.6474876557377052 - 1 * 0.08779840023070665 # Hipp only\n",
    "#cutoff = 9.938946737704917 - 1 * 0.44420289103294347 # Medial Temporal Lobe\n",
    "\n",
    "hip_vols_df['GT Positive'] = hip_vols_df.apply(lambda row: 1 if row['GT']<cutoff else 0, axis=1)\n",
    "hip_vols_df['Pred Positive'] = hip_vols_df.apply(lambda row: 1 if row['Pred']<cutoff else 0, axis=1)"
   ]
  },
  {
   "cell_type": "code",
   "execution_count": null,
   "id": "aa09c7ae-4c20-424c-8567-b4c01208197a",
   "metadata": {},
   "outputs": [],
   "source": [
    "sum(hip_vols_df[['GT Positive']].values)/len(hip_vols_df[['GT Positive']].values)"
   ]
  },
  {
   "cell_type": "code",
   "execution_count": null,
   "id": "fd6148e3-fb49-4afa-a804-ecbb28b20997",
   "metadata": {},
   "outputs": [],
   "source": [
    "precision = metrics.precision_score(hip_vols_df['GT Positive'], hip_vols_df['Pred Positive'])\n",
    "recall = metrics.recall_score(hip_vols_df['GT Positive'], hip_vols_df['Pred Positive'])\n",
    "f1 = metrics.f1_score(hip_vols_df['GT Positive'], hip_vols_df['Pred Positive'])\n",
    "print('Precision: {}'.format(precision))\n",
    "print('Recall: {}'.format(recall))\n",
    "print('F1: {}'.format(f1))"
   ]
  },
  {
   "cell_type": "code",
   "execution_count": null,
   "id": "f38570b7-70af-47dc-8f1d-0977832605a8",
   "metadata": {},
   "outputs": [],
   "source": [
    "metrics.roc_auc_score(hip_vols_df['GT Positive'], hip_vols_df['Pred Positive'])"
   ]
  },
  {
   "cell_type": "markdown",
   "id": "c5ff99e9-6b52-4d70-bd0e-a7d7a53c9584",
   "metadata": {},
   "source": [
    "## Amyloid"
   ]
  },
  {
   "cell_type": "code",
   "execution_count": null,
   "id": "f64dfc4a-fc2f-46ce-acc5-107f2333c346",
   "metadata": {
    "tags": []
   },
   "outputs": [],
   "source": [
    "name = 'roi_predictor/csv/roi/amyloid/version_18'\n",
    "splits = 'splits_FBB_as_AV45/dkt'\n",
    "target = 'Abeta'\n",
    "nontarget = 'Tau' if target=='Abeta' else 'Abeta'\n",
    "all_results_df = pd.DataFrame(columns = ['{} GT ROI SUVR'.format(target),'{} Pred ROI SUVR'.format(target),'{} GT ROI SUVR'.format(nontarget)])\n",
    "all_gt_global_SUVR = []\n",
    "all_gt_nontarget_global_SUVR = []\n",
    "all_pred_global_SUVR = []\n",
    "\n",
    "for i in range(5,6):\n",
    "    gt = 'split_{}'.format(i)\n",
    "    val_f = f'{BASE}/data/{}/{}.csv'.format(splits,gt) # MAKE SURE CORRECT SPLIT\n",
    "    preds_f = f'{BASE}/tb_logs/{}/{}/preds.csv'.format(name,gt)\n",
    "\n",
    "    header_gt = ['Sex F','Sex M','Age','33','34','44','24','23','22']\n",
    "    header_gt.extend(['Tau ROI {}'.format(x) for x in dktLabels])\n",
    "    header_gt.extend(['Abeta ROI {}'.format(x) for x in dktLabels])\n",
    "    header_preds = ['{} ROI {}'.format(target,x) for x in dktLabels]\n",
    "    header_nontarget = ['{} ROI {}'.format(nontarget,x) for x in dktLabels]\n",
    "\n",
    "    gt_df = pd.read_csv(val_f, names=header_gt)\n",
    "    pred_df = pd.read_csv(preds_f, names=header_preds)\n",
    "    \n",
    "    gt_df['Global {} SUVR'.format(target)] = gt_df.apply(lambda row: Calc_Abeta_SUVR(row,target), axis=1)\n",
    "    gt_df['Global {} SUVR'.format(nontarget)] = gt_df.apply(lambda row: Calc_Global_SUVR_dkt(row,nontarget), axis=1)\n",
    "    pred_df['Global {} SUVR'.format(target)] = pred_df.apply(lambda row: Calc_Abeta_SUVR(row,target), axis=1)\n",
    "    \n",
    "    all_gt_global_SUVR.extend(gt_df['Global {} SUVR'.format(target)])\n",
    "    all_gt_nontarget_global_SUVR.extend(gt_df['Global {} SUVR'.format(nontarget)])\n",
    "    all_pred_global_SUVR.extend(pred_df['Global {} SUVR'.format(target)])    \n",
    "\n",
    "    gt_roi_melt_df = pd.melt(gt_df, value_vars = header_preds, value_name='{} GT ROI SUVR'.format(target))\n",
    "    gt_roi_nontarget_melt_df = pd.melt(gt_df, value_vars = header_nontarget, value_name='{} GT ROI SUVR'.format(nontarget))\n",
    "    pred_roi_melt_df = pd.melt(pred_df, value_vars = header_preds, value_name='{} Pred ROI SUVR'.format(target))\n",
    "    results_df = pd.concat([gt_roi_melt_df,pred_roi_melt_df,gt_roi_nontarget_melt_df],axis=1)\n",
    "    all_results_df = pd.concat([all_results_df,results_df[['{} GT ROI SUVR'.format(target),'{} Pred ROI SUVR'.format(target),'{} GT ROI SUVR'.format(nontarget)]]])\n",
    "\n",
    "    plotAllPred(results_df, target)\n",
    "    outp = os.path.join(os.path.dirname(preds_f),'density.jpg')\n",
    "    plt.savefig(outp)\n",
    "\n",
    "all_global_SUVR = pd.DataFrame({'{} GT ROI SUVR'.format(target):all_gt_global_SUVR,'{} Pred ROI SUVR'.format(target):all_pred_global_SUVR,'{} GT ROI SUVR'.format(nontarget):all_gt_nontarget_global_SUVR})\n",
    "gt_df_amyloid = gt_df.copy(deep=True)"
   ]
  },
  {
   "cell_type": "code",
   "execution_count": null,
   "id": "ed8fae75",
   "metadata": {},
   "outputs": [],
   "source": [
    "results_df"
   ]
  },
  {
   "cell_type": "code",
   "execution_count": null,
   "id": "6421a2d2",
   "metadata": {},
   "outputs": [],
   "source": [
    "results_df.to_csv('../data/regional_amyloid_results.csv')\n",
    "#all_results_df"
   ]
  },
  {
   "cell_type": "code",
   "execution_count": null,
   "id": "88175a19-5522-4090-8d7d-8208c0977cb6",
   "metadata": {
    "tags": []
   },
   "outputs": [],
   "source": [
    "plotAllPred(all_results_df, target)\n",
    "r = pearsonr(all_results_df['{} Pred ROI SUVR'.format(target)],all_results_df['{} GT ROI SUVR'.format(target)])\n",
    "print(r)\n",
    "plt.savefig(os.path.join(f'{BASE}/tb_logs',name,'all_splits_density.jpg'))"
   ]
  },
  {
   "cell_type": "markdown",
   "id": "3d01a15a-b164-4c9c-98b9-8017832c23db",
   "metadata": {},
   "source": [
    "### Calc Summary Metrics"
   ]
  },
  {
   "cell_type": "code",
   "execution_count": null,
   "id": "a8807c6b-2c6c-49cc-a088-ccc2d4ed7a30",
   "metadata": {},
   "outputs": [],
   "source": [
    "regional = False\n",
    "\n",
    "av45_cutoff = 1.11\n",
    "fbb_cutoff = 1.08\n",
    "\n",
    "if target == 'Abeta':\n",
    "    cutoff_t = 1.11\n",
    "    cutoff_nt = 1.3\n",
    "else:\n",
    "    cutoff = 1.3\n",
    "    cutoff_nt = 1.11\n",
    "        \n",
    "if regional:\n",
    "    bench_df = all_results_df\n",
    "else:\n",
    "    bench_df = all_global_SUVR\n",
    "    \n",
    "bench_df['{} GT Positive'.format(target)] = bench_df.apply(lambda row: 1 if row['{} GT ROI SUVR'.format(target)]>cutoff_t else 0, axis=1)\n",
    "bench_df['{} Pred Positive'.format(target)] = bench_df.apply(lambda row: 1 if row['{} Pred ROI SUVR'.format(target)]>cutoff_t else 0, axis=1)\n",
    "bench_df['{} GT Positive'.format(nontarget)] = bench_df.apply(lambda row: 1 if row['{} GT ROI SUVR'.format(nontarget)]>cutoff_nt else 0, axis=1)\n",
    "\n",
    "precision = metrics.precision_score(bench_df['{} GT Positive'.format(target)], bench_df['{} Pred Positive'.format(target)])\n",
    "recall = metrics.recall_score(bench_df['{} GT Positive'.format(target)], bench_df['{} Pred Positive'.format(target)])\n",
    "f1 = metrics.f1_score(bench_df['{} GT Positive'.format(target)], bench_df['{} Pred Positive'.format(target)])\n",
    "print('Precision: {}'.format(precision))\n",
    "print('Recall: {}'.format(recall))\n",
    "print('F1 score is: {}'.format(f1))\n",
    "\n",
    "auc = metrics.roc_auc_score(bench_df['{} GT Positive'.format(target)], bench_df['{} Pred Positive'.format(target)])\n",
    "print('AUC score is: {}'.format(auc))\n",
    "\n",
    "\n",
    "x = len(bench_df.loc[(bench_df['{} GT Positive'.format(target)]==1)&(bench_df['{} Pred Positive'.format(target)]==1)&(bench_df['{} GT Positive'.format(nontarget)]==0)])\n",
    "y = len(bench_df.loc[(bench_df['{} GT Positive'.format(target)]==1)&(bench_df['{} Pred Positive'.format(target)]==0)&(bench_df['{} GT Positive'.format(nontarget)]==0)])\n",
    "print('Out of {} instances, {} found and {} missed. Thats {}%'.format(x+y,x,y,x/(x+y)*100))"
   ]
  },
  {
   "cell_type": "code",
   "execution_count": null,
   "id": "79113d60-fdc4-4217-9735-d0da71a2b854",
   "metadata": {},
   "outputs": [],
   "source": [
    "(x+y)/len(bench_df)"
   ]
  },
  {
   "cell_type": "markdown",
   "id": "242b2ef5-be3b-46d7-966a-7b5f2c0d1f32",
   "metadata": {},
   "source": [
    "## Multitask"
   ]
  },
  {
   "cell_type": "markdown",
   "id": "deee2781-91dd-45e4-b7a3-276d8e461323",
   "metadata": {},
   "source": [
    "### Amyloid"
   ]
  },
  {
   "cell_type": "code",
   "execution_count": null,
   "id": "8ad4c131-8251-4ec6-b0ec-a92f8e9d6701",
   "metadata": {},
   "outputs": [],
   "source": [
    "name = 'roi_predictor/csv/multitask/amyloid/version_9'\n",
    "splits = 'splits_FBB_as_AV45_multitask/dkt'\n",
    "#splits = 'splits_AV45_multitask/dkt'\n",
    "target = 'Abeta'\n",
    "nontarget = 'Tau'\n",
    "all_results_df = pd.DataFrame(columns = ['Abeta GT ROI SUVR', 'Abeta Pred ROI SUVR', 'Tau GT ROI SUVR'])\n",
    "all_gt_global_SUVR = []\n",
    "all_gt_nontarget_global_SUVR = []\n",
    "all_pred_global_SUVR = []\n",
    "all_gt_labels = []\n",
    "all_pred0 = []\n",
    "all_pred1 = []\n",
    "\n",
    "for i in range(5,6):\n",
    "    gt = 'split_{}'.format(i)\n",
    "    val_f = f'{BASE}/data/{splits}/{gt}.csv'  # MAKE SURE CORRECT SPLIT\n",
    "    preds_f = f'{BASE}/tb_logs/{name}/{gt}/preds.csv'\n",
    "\n",
    "    header_gt = ['Sex F','Sex M','Age','33','34','44','24','23','22']\n",
    "    header_gt.extend(['Tau ROI {}'.format(x) for x in dktLabels])\n",
    "    header_gt.extend(['Abeta ROI {}'.format(x) for x in dktLabels])\n",
    "    header_gt.append('A+')\n",
    "    header_preds = ['Pred 0','Pred 1']\n",
    "    header_preds.extend(['Abeta ROI {}'.format(x) for x in dktLabels])\n",
    "    header_nontarget = ['Tau ROI {}'.format(x) for x in dktLabels]\n",
    "\n",
    "    gt_df = pd.read_csv(val_f, names=header_gt)\n",
    "    pred_df = pd.read_csv(preds_f, names=header_preds)\n",
    "    \n",
    "    gt_df['Global Abeta SUVR'] = gt_df.apply(lambda row: Calc_Abeta_SUVR(row,target), axis=1)\n",
    "    gt_df['Global Tau SUVR'] = gt_df.apply(lambda row: Calc_Global_SUVR_dkt(row,nontarget), axis=1)\n",
    "    pred_df['Global Abeta SUVR'] = pred_df.apply(lambda row: Calc_Abeta_SUVR(row,target), axis=1)\n",
    "    \n",
    "    all_gt_global_SUVR.extend(gt_df['Global Abeta SUVR'])\n",
    "    all_gt_nontarget_global_SUVR.extend(gt_df['Global Tau SUVR'])\n",
    "    all_pred_global_SUVR.extend(pred_df['Global Abeta SUVR'])\n",
    "    \n",
    "    all_gt_labels.extend(gt_df['A+'])\n",
    "    all_pred0.extend(pred_df['Pred 0'])\n",
    "    all_pred1.extend(pred_df['Pred 1'])\n",
    "    \n",
    "    roi_names = ['Abeta ROI {}'.format(x) for x in dktLabels]\n",
    "\n",
    "    gt_roi_melt_df = pd.melt(gt_df, value_vars = roi_names, value_name='Abeta GT ROI SUVR')\n",
    "    gt_roi_nontarget_melt_df = pd.melt(gt_df, value_vars = header_nontarget, value_name='Tau GT ROI SUVR')\n",
    "    pred_roi_melt_df = pd.melt(pred_df, value_vars = roi_names, value_name='Abeta Pred ROI SUVR')\n",
    "    results_df = pd.concat([gt_roi_melt_df,pred_roi_melt_df,gt_roi_nontarget_melt_df],axis=1)\n",
    "    all_results_df = pd.concat([all_results_df,results_df[['Abeta GT ROI SUVR', 'Abeta Pred ROI SUVR', 'Tau GT ROI SUVR']]])\n",
    "\n",
    "    plotAllPred(results_df, target)\n",
    "    outp = os.path.join(os.path.dirname(preds_f),'density.jpg')\n",
    "    plt.savefig(outp)\n",
    "\n",
    "all_global_SUVR = pd.DataFrame({'Abeta GT ROI SUVR':all_gt_global_SUVR, 'Abeta Pred ROI SUVR':all_pred_global_SUVR, 'Tau GT ROI SUVR':all_gt_nontarget_global_SUVR, 'GT Label':all_gt_labels, 'Pred0':all_pred0, 'Pred1':all_pred1})\n",
    "gt_df_amyloid = gt_df.copy(deep=True)"
   ]
  },
  {
   "cell_type": "code",
   "execution_count": null,
   "id": "08503a1f-1dd2-4ace-abcf-2cb04bbe6b2b",
   "metadata": {},
   "outputs": [],
   "source": [
    "plotAllPred(all_results_df, target)\n",
    "r = pearsonr(all_results_df['Abeta Pred ROI SUVR'],all_results_df['Abeta GT ROI SUVR'])\n",
    "print(r)\n",
    "plt.savefig(os.path.join(f'{BASE}/tb_logs',name,'all_splits_density.jpg'))"
   ]
  },
  {
   "cell_type": "markdown",
   "id": "ac439d9d-0fdc-4256-bab9-fe257962cbe2",
   "metadata": {},
   "source": [
    "#### Calc Summary Metrics"
   ]
  },
  {
   "cell_type": "code",
   "execution_count": null,
   "id": "c75ca126-d24e-4364-a967-016e934bfb44",
   "metadata": {},
   "outputs": [],
   "source": [
    "all_global_SUVR[['Pred0_sm','Pred1_sm']] = all_global_SUVR.apply(lambda row: scipy.special.softmax(row[['Pred0','Pred1']]),axis=1)\n",
    "all_global_SUVR['Pred Label'] = all_global_SUVR.apply(lambda row: np.argmax(row[['Pred0_sm','Pred1_sm']]),axis=1)"
   ]
  },
  {
   "cell_type": "code",
   "execution_count": null,
   "id": "3ad3a927-617c-49eb-9814-f12f7a8e70a3",
   "metadata": {},
   "outputs": [],
   "source": [
    "# Determine decision cutoff from train data\n",
    "if True:\n",
    "    pr, re, th = metrics.precision_recall_curve(all_global_SUVR['GT Label'],all_global_SUVR['Pred1_sm'])\n",
    "    f1 = scipy.stats.hmean([pr,re])\n",
    "    best_i = np.argmax(f1)\n",
    "    threshold_a = th[best_i]"
   ]
  },
  {
   "cell_type": "code",
   "execution_count": null,
   "id": "5fa32c97",
   "metadata": {},
   "outputs": [],
   "source": [
    "all_global_SUVR.to_csv('../data/global_suvr_amyloid.csv')"
   ]
  },
  {
   "cell_type": "code",
   "execution_count": null,
   "id": "a7238347-893d-42eb-8cd6-877faa4a9ea0",
   "metadata": {},
   "outputs": [],
   "source": [
    "all_global_SUVR['Abeta GT Positive'] = all_global_SUVR.apply(lambda row: 1 if row['Abeta GT ROI SUVR']>cutoff_abeta_av45 else 0, axis=1)\n",
    "all_global_SUVR['Abeta Pred Positive'] = all_global_SUVR.apply(lambda row: 1 if row['Abeta Pred ROI SUVR']>cutoff_abeta_av45 else 0, axis=1)\n",
    "all_global_SUVR['Tau GT Positive'] = all_global_SUVR.apply(lambda row: 1 if row['Tau GT ROI SUVR']>cutoff_tau else 0, axis=1)\n",
    "\n",
    "all_results_df['Abeta GT Positive'] = all_results_df.apply(lambda row: 1 if row['Abeta GT ROI SUVR']>cutoff_abeta_av45 else 0, axis=1)\n",
    "all_results_df['Abeta Pred Positive'] = all_results_df.apply(lambda row: 1 if row['Abeta Pred ROI SUVR']>cutoff_abeta_av45 else 0, axis=1)\n",
    "all_results_df['Tau GT Positive'] = all_results_df.apply(lambda row: 1 if row['Tau GT ROI SUVR']>cutoff_tau else 0, axis=1)\n",
    "\n",
    "assert np.all(all_global_SUVR['Abeta GT Positive']==all_global_SUVR['GT Label'])\n",
    "\n",
    "pr, re, th = metrics.precision_recall_curve(all_global_SUVR['GT Label'],all_global_SUVR['Pred1_sm'])\n",
    "f1 = scipy.stats.hmean([pr,re])\n",
    "_min=1000\n",
    "for i, t in enumerate(th):\n",
    "    if abs(t-threshold_a)<_min:\n",
    "        indx = i\n",
    "        _min = abs(t-threshold_a)\n",
    "precision_class = pr[indx]\n",
    "recall_class = re[indx]\n",
    "f1_class = f1[indx]\n",
    "auc_class = metrics.roc_auc_score(all_global_SUVR['GT Label'], all_global_SUVR['Pred1'])\n",
    "\n",
    "precision_regional_global = metrics.precision_score(all_global_SUVR['Abeta GT Positive'], all_global_SUVR['Abeta Pred Positive'])\n",
    "recall_regional_global = metrics.recall_score(all_global_SUVR['Abeta GT Positive'], all_global_SUVR['Abeta Pred Positive'])\n",
    "f1_regional_global = metrics.f1_score(all_global_SUVR['Abeta GT Positive'], all_global_SUVR['Abeta Pred Positive'])\n",
    "auc_regional_global = metrics.roc_auc_score(all_global_SUVR['Abeta GT Positive'], all_global_SUVR['Abeta Pred Positive'])\n",
    "\n",
    "precision_regional = metrics.precision_score(all_results_df['Abeta GT Positive'], all_results_df['Abeta Pred Positive'])\n",
    "recall_regional = metrics.recall_score(all_results_df['Abeta GT Positive'], all_results_df['Abeta Pred Positive'])\n",
    "f1_regional = metrics.f1_score(all_results_df['Abeta GT Positive'], all_results_df['Abeta Pred Positive'])\n",
    "auc_regional = metrics.roc_auc_score(all_results_df['Abeta GT Positive'], all_results_df['Abeta Pred Positive'])\n",
    "mse = metrics.mean_squared_error(all_results_df['Abeta GT ROI SUVR'], all_results_df['Abeta Pred ROI SUVR'])\n",
    "\n",
    "precision_regional_global = format(round(precision_regional_global, 2),'.2f')\n",
    "recall_regional_global = format(round(recall_regional_global, 2),'.2f')\n",
    "f1_regional_global = format(round(f1_regional_global, 2),'.2f')\n",
    "auc_regional_global = format(round(auc_regional_global, 2),'.2f')\n",
    "\n",
    "precision_regional = format(round(precision_regional, 2),'.2f')\n",
    "recall_regional = format(round(recall_regional, 2),'.2f')\n",
    "f1_regional = format(round(f1_regional, 2),'.2f')\n",
    "auc_regional = format(round(auc_regional, 2),'.2f')\n",
    "mse = format(round(mse, 3),'.3f')\n",
    "\n",
    "precision_class = format(round(precision_class, 2),'.2f')\n",
    "recall_class = format(round(recall_class, 2),'.2f')\n",
    "f1_class = format(round(f1_class, 2),'.2f')\n",
    "auc_class = format(round(auc_class, 2),'.2f')\n",
    "\n",
    "print('Precision: (Regional) {} | (Regional Global) {} | (Classification) {}'.format(precision_regional, precision_regional_global, precision_class))\n",
    "print('Recall:    (Regional) {} | (Regional Global) {} | (Classification) {}'.format(recall_regional, recall_regional_global, recall_class))\n",
    "print('F1:        (Regional) {} | (Regional Global) {} | (Classification) {}'.format(f1_regional, f1_regional_global, f1_class))\n",
    "print('AUC:       (Regional) {} | (Regional Global) {} | (Classification) {}'.format(auc_regional, auc_regional_global, auc_class))\n",
    "print('\\nMSE: {}\\n'.format(mse))\n",
    "x = len(all_results_df.loc[(all_results_df['{} GT Positive'.format(target)]==1)&(all_results_df['{} Pred Positive'.format(target)]==1)&(all_results_df['{} GT Positive'.format(nontarget)]==0)])\n",
    "y = len(all_results_df.loc[(all_results_df['{} GT Positive'.format(target)]==1)&(all_results_df['{} Pred Positive'.format(target)]==0)&(all_results_df['{} GT Positive'.format(nontarget)]==0)])\n",
    "print('Out of {} instances, {} found and {} missed. Thats {}%'.format(x+y,x,y,x/(x+y)*100))"
   ]
  },
  {
   "cell_type": "code",
   "execution_count": null,
   "id": "96d33976",
   "metadata": {},
   "outputs": [],
   "source": [
    "all_global_SUVR[['Abeta GT Positive','Abeta Pred ROI SUVR']].to_csv('../data/mlp_amyloid.csv')"
   ]
  },
  {
   "cell_type": "markdown",
   "id": "47d671f2-575f-4bb5-ada8-8c988f6f8024",
   "metadata": {},
   "source": [
    "### GM Density"
   ]
  },
  {
   "cell_type": "code",
   "execution_count": null,
   "id": "2205103c-0eea-4fa2-9a83-1937e7b72901",
   "metadata": {
    "tags": []
   },
   "outputs": [],
   "source": [
    "name = 'roi_predictor/csv/multitask/gmvolume/version_7'\n",
    "target = 'gmvolume'\n",
    "nontarget = 'Tau'\n",
    "splits = 'splits_volume_ATN_schaefer_multitask'\n",
    "all_results_df = pd.DataFrame(columns = ['gmvolume GT ROI SUVR','gmvolume Pred ROI SUVR','Tau GT ROI SUVR'])\n",
    "\n",
    "gt_hip_vols = []\n",
    "pred_hip_vols = []\n",
    "all_gt_labels = []\n",
    "all_pred0 = []\n",
    "all_pred1 = []\n",
    "\n",
    "roi_names = ['GM Volume ROI {}'.format(x) for x in commonLabels]\n",
    "\n",
    "for i in range(5,6):\n",
    "    gt = 'split_{}'.format(i)\n",
    "    val_f = f'{BASE}/data/{splits}/{gt}.csv' # MAKE SURE CORRECT SPLIT\n",
    "    preds_f = f'{BASE}/tb_logs/{name}/{gt}/preds.csv'\n",
    "    \n",
    "\n",
    "    header_gt = ['Female','Male','Age','33','34','44','24','23','22']\n",
    "    header_gt.extend(['Tau ROI {}'.format(x) for x in range(1,201)])\n",
    "    #header_gt.extend(['Tau ROI {}'.format(x) for x in dktLabels])\n",
    "    header_gt.extend(roi_names)\n",
    "    header_gt.append('N+')\n",
    "    \n",
    "    header_preds = ['Pred 0','Pred 1']\n",
    "    header_preds.extend(roi_names)\n",
    "\n",
    "    gt_df = pd.read_csv(val_f, names=header_gt)\n",
    "    pred_df = pd.read_csv(preds_f, names=header_preds)\n",
    "    \n",
    "    #gt_df = gt_df[(gt_df.iloc[:,0]=='GM Volume ROI 4101')|(gt_df.iloc[:,0]=='GM Volume ROI 4102')]\n",
    "    #pred_df = pred_df[(pred_df.iloc[:,0]=='GM Volume ROI 4101')|(pred_df.iloc[:,0]=='GM Volume ROI 4102')]\n",
    "    \n",
    "    gt_df['Hip Volume'] = gt_df.apply(lambda row: calc_total_vol(row),axis=1)\n",
    "    pred_df['Hip Volume'] = pred_df.apply(lambda row: calc_total_vol(row),axis=1)\n",
    "    gt_hip_vols.extend(gt_df['Hip Volume'])\n",
    "    pred_hip_vols.extend(pred_df['Hip Volume'])\n",
    "    \n",
    "    all_gt_labels.extend(gt_df['N+'])\n",
    "    all_pred0.extend(pred_df['Pred 0'])\n",
    "    all_pred1.extend(pred_df['Pred 1'])\n",
    "    \n",
    "\n",
    "    gt_roi_melt_df = pd.melt(gt_df, value_vars = roi_names, value_name='gmvolume GT ROI SUVR')\n",
    "    pred_roi_melt_df = pd.melt(pred_df, value_vars = roi_names, value_name='gmvolume Pred ROI SUVR')\n",
    "    results_df = pd.concat([gt_roi_melt_df,pred_roi_melt_df],axis=1)\n",
    "    all_results_df = pd.concat([all_results_df,results_df[['gmvolume GT ROI SUVR','gmvolume Pred ROI SUVR']]])\n",
    "\n",
    "    plotAllPred_density(results_df, target)\n",
    "    outp = os.path.join(os.path.dirname(preds_f),'density.jpg')\n",
    "    plt.savefig(outp)\n",
    "    \n",
    "all_global_values = pd.DataFrame({'GT Hip Volume':gt_hip_vols, 'Pred Hip Volume':pred_hip_vols, 'GT Labels':all_gt_labels, 'Pred0':all_pred0, 'Pred1':all_pred1})\n",
    "gt_df_gmdensity = gt_df.copy(deep=True)"
   ]
  },
  {
   "cell_type": "code",
   "execution_count": null,
   "id": "47041805-a071-498b-a769-998ea6657d48",
   "metadata": {
    "tags": []
   },
   "outputs": [],
   "source": [
    "from scipy.stats import pearsonr\n",
    "#plotAllPred(all_results_df, target)\n",
    "plotAllPred_density(all_results_df, target)\n",
    "r = pearsonr(all_results_df['gmvolume Pred ROI SUVR'],all_results_df['gmvolume GT ROI SUVR'])\n",
    "print(r)\n",
    "plt.savefig(os.path.join(f'{BASE}/tb_logs',name,'all_splits_density.jpg'))"
   ]
  },
  {
   "cell_type": "markdown",
   "id": "8caaa46d-ace5-4c30-b840-ea448fd1a634",
   "metadata": {},
   "source": [
    "#### Calc Summary Metrics"
   ]
  },
  {
   "cell_type": "code",
   "execution_count": null,
   "id": "17f44bce-c4e9-4993-ad51-192ac424b239",
   "metadata": {},
   "outputs": [],
   "source": [
    "cutoff = 1.6474876557377052 - 1 * 0.08779840023070665 # Hipp only\n",
    "\n",
    "all_global_values[['Pred0_sm','Pred1_sm']] = all_global_values.apply(lambda row: scipy.special.softmax(row[['Pred0','Pred1']]),axis=1)\n",
    "all_global_values['Pred Label'] = all_global_values.apply(lambda row: np.argmax(row[['Pred0_sm','Pred1_sm']]),axis=1)\n",
    "\n",
    "all_global_values['GT Neurodegen Positive'] = all_global_values.apply(lambda row: 1 if row['GT Hip Volume']<cutoff else 0, axis=1)\n",
    "all_global_values['Pred Neurodegen Positive'] = all_global_values.apply(lambda row: 1 if row['Pred Hip Volume']<cutoff else 0, axis=1)\n",
    "\n",
    "assert np.all(all_global_values['GT Neurodegen Positive']==all_global_values['GT Labels'])"
   ]
  },
  {
   "cell_type": "code",
   "execution_count": null,
   "id": "5e24f0a8-7813-4973-9294-16669d695472",
   "metadata": {},
   "outputs": [],
   "source": [
    "# Determine decision cutoff from train data\n",
    "if True:\n",
    "    pr, re, th = metrics.precision_recall_curve(all_global_values['GT Labels'],all_global_values['Pred1_sm'])\n",
    "    f1 = scipy.stats.hmean([pr,re])\n",
    "    best_i = np.argmax(f1)\n",
    "    threshold_n = th[best_i]"
   ]
  },
  {
   "cell_type": "code",
   "execution_count": null,
   "id": "9f29669a-93eb-4dd6-b754-2c0da50dcf82",
   "metadata": {},
   "outputs": [],
   "source": [
    "cutoff = 1.6474876557377052 - 1 * 0.08779840023070665 # Hipp only\n",
    "\n",
    "pr, re, th = metrics.precision_recall_curve(all_global_values['GT Labels'],all_global_values['Pred1_sm'])\n",
    "f1 = scipy.stats.hmean([pr,re])\n",
    "\n",
    "_min=1000\n",
    "for i, t in enumerate(th):\n",
    "    if abs(t-threshold_n)<_min:\n",
    "        indx = i\n",
    "        _min = abs(t-threshold_n)\n",
    "        \n",
    "precision_class = pr[indx]\n",
    "recall_class = re[indx]\n",
    "f1_class = f1[indx]\n",
    "auc_class = metrics.roc_auc_score(all_global_values['GT Labels'], all_global_values['Pred1'])\n",
    "\n",
    "precision_regional_global = metrics.precision_score(all_global_values['GT Neurodegen Positive'], all_global_values['Pred Neurodegen Positive'])\n",
    "recall_regional_global = metrics.recall_score(all_global_values['GT Neurodegen Positive'], all_global_values['Pred Neurodegen Positive'])\n",
    "f1_regional_global = metrics.f1_score(all_global_values['GT Neurodegen Positive'], all_global_values['Pred Neurodegen Positive'])\n",
    "auc_regional_global = metrics.roc_auc_score(all_global_values['GT Neurodegen Positive'], all_global_values['Pred Neurodegen Positive'])\n",
    "\n",
    "mse = metrics.mean_squared_error(all_results_df['gmvolume GT ROI SUVR'], all_results_df['gmvolume Pred ROI SUVR'])\n",
    "\n",
    "precision_regional_global = format(round(precision_regional_global, 2),'.2f')\n",
    "recall_regional_global = format(round(recall_regional_global, 2),'.2f')\n",
    "f1_regional_global = format(round(f1_regional_global, 2),'.2f')\n",
    "auc_regional_global = format(round(auc_regional_global, 2),'.2f')\n",
    "\n",
    "mse = format(round(mse, 4),'.4f')\n",
    "\n",
    "precision_class = format(round(precision_class, 2),'.2f')\n",
    "recall_class = format(round(recall_class, 2),'.2f')\n",
    "f1_class = format(round(f1_class, 2),'.2f')\n",
    "auc_class = format(round(auc_class, 2),'.2f')\n",
    "\n",
    "print('Precision: (Regional Global) {} | (Classification) {}'.format(precision_regional_global, precision_class))\n",
    "print('Recall:    (Regional Global) {} | (Classification) {}'.format(recall_regional_global, recall_class))\n",
    "print('F1:        (Regional Global) {} | (Classification) {}'.format(f1_regional_global, f1_class))\n",
    "print('AUC:       (Regional Global) {} | (Classification) {}'.format(auc_regional_global, auc_class))\n",
    "print('\\nMSE: {}'.format(mse))"
   ]
  },
  {
   "cell_type": "code",
   "execution_count": null,
   "id": "ae63684d",
   "metadata": {},
   "outputs": [],
   "source": [
    "all_global_values[['GT Neurodegen Positive','Pred1']].to_csv('../data/mlp_neurodegen.csv')"
   ]
  },
  {
   "cell_type": "markdown",
   "id": "40274be6-942a-4772-b5d8-64daef799b10",
   "metadata": {},
   "source": [
    "## ATN"
   ]
  },
  {
   "cell_type": "code",
   "execution_count": null,
   "id": "ef17d492-a4f7-406c-a936-1e56169333b9",
   "metadata": {},
   "outputs": [],
   "source": [
    "amyloid_overlap_indices = [0,1,2,3,4,5,6,7,8,9,10,11,12,13,14,15,16,17,18,19,20,21,22,23,24,25,26,27,28,29,30,31,32,33,36,37,38,39,40,41,42,43,44,45,46,47,48,49,50,51,52,54,55,56,57,58,59,60,61,62,63,64,65,66,67,69,70,71,72,73,75,76,77,78,79,80,81,82,83,84,85,86,87,88,89,90,91,92,93,94,95,96,97,98,99,100,101,102,103,104,105,106,107,108,109,110,111,112,113,114,115,116,118,119,120,121,122,123,124,125,126,127,128,129,130,131,132,133,134,135,136,137,138,139,140,141,142,143,144,145,146,147,148,149,150,151,152,153,154,155,156,157,158,159,160,161,162,163,164,165,166,167,168,169,170,171,172,173,174,175,176,177,178,179,180,181,182,183,184,185,186,187,189,190,191,192,193,194,195,196,197,198,199,200,201,202,203,204,205,206,207,208,209,210,212,213,214]\n",
    "amyloid_atn_df = all_global_SUVR.iloc[amyloid_overlap_indices].reset_index(drop=True)"
   ]
  },
  {
   "cell_type": "code",
   "execution_count": null,
   "id": "cab816f0-1815-4ec2-a104-75c7147a2e54",
   "metadata": {},
   "outputs": [],
   "source": [
    "def classify_atn(n, a):\n",
    "    out = []\n",
    "    for i in range(len(n)):\n",
    "        n_ = n[i]\n",
    "        a_ = a[i]\n",
    "        if n_ and a_:\n",
    "            out.append(3) # N+|A+\n",
    "        elif n_ and not a_:\n",
    "            out.append(2) # N+|A-\n",
    "        elif not n_ and a_:\n",
    "            out.append(1) # N-|A+\n",
    "        elif not n_ and not a_:\n",
    "            out.append(0) # N-|A-\n",
    "    return out"
   ]
  },
  {
   "cell_type": "code",
   "execution_count": null,
   "id": "b0f243b7",
   "metadata": {},
   "outputs": [],
   "source": [
    "def majority_vote(preds):\n",
    "  out = []\n",
    "  for i in range(len(preds[0])):\n",
    "    if preds[0][i] == preds[1][i]:\n",
    "      out.append(preds[0][i])\n",
    "    elif preds[1][i] == preds[2][i]:\n",
    "      out.append(preds[1][i])\n",
    "    else:\n",
    "      out.append(preds[2][i])\n",
    "  return out"
   ]
  },
  {
   "cell_type": "code",
   "execution_count": null,
   "id": "26c94e70-6769-4422-9149-672ff8a8c726",
   "metadata": {},
   "outputs": [],
   "source": [
    "gb_pred_neurodegen = [0,0,0,1,0,0,0,1,0,0,0,0,0,0,0,0,1,0,1,0,0,0,0,0,0,0,0,0,1,0,0,0,0,1,0,0,0,0,0,0,0,0,0,0,0,0,0,0,0,0,0,0,0,0,0,0,1,0,0,0,0,0,0,0,0,0,0,0,1,1,0,0,0,0,1,0,0,1,1,0,0,0,1,1,0,0,0,0,0,0,0,0,0,0,0,0,0,0,0,0,0,0,0,0,0,0,0,0,0,0,0,0,0,0,0,0,0,0,0,0,0,1,0,0,0,0,0,0,0,0,1,0,0,0,0,0,0,0,0,0,1,0,0,0,0,1,0,1,0,0,0,0,0,0,0,0,0,0,1,0,0,0,0,0,1,0,0,0,0,0,0,1,0,1,0,0,0,0,0,0,0,0,0,0,0,0,0,0,0,1,0,0,1,1,1,1,0,0,0,0,0,0,0,0,0,1,0]\n",
    "lr_pred_neurodegen = [0,0,0,0,0,0,0,1,0,0,0,0,0,0,0,0,1,0,1,0,0,0,0,1,0,0,0,0,1,1,0,0,0,1,0,0,0,0,0,0,0,0,0,0,0,0,0,0,0,0,0,1,0,0,0,0,1,0,0,0,0,0,0,0,0,0,0,0,1,1,0,0,0,0,0,0,0,1,1,0,0,0,1,1,0,0,0,0,0,0,0,0,1,0,0,0,0,0,0,0,0,0,0,0,0,0,0,0,0,0,0,0,1,1,0,0,0,0,0,0,0,0,0,0,0,0,0,0,0,0,1,0,0,0,0,0,1,0,0,1,1,0,1,1,0,1,0,1,0,0,0,0,1,0,0,0,0,0,1,0,0,0,0,1,1,0,0,0,0,0,0,0,0,0,0,0,0,1,0,0,0,0,0,0,0,0,0,0,0,1,0,0,1,1,1,1,0,0,0,0,0,0,0,0,1,1,0]\n",
    "mlp_pred_neurodegen = [0,0,0,1,0,0,0,1,0,0,0,0,0,0,0,0,0,0,1,0,0,0,0,1,0,0,0,0,1,0,0,0,0,1,0,0,0,0,0,0,0,0,0,0,0,0,0,0,0,0,0,0,0,0,0,0,0,0,0,0,0,0,0,0,0,0,0,0,0,1,0,0,0,0,0,0,0,1,1,0,0,0,1,1,0,0,0,0,0,0,0,0,0,0,0,0,0,0,0,0,0,0,0,0,0,0,0,0,0,0,0,0,1,1,0,0,0,0,0,0,0,0,0,0,0,0,0,0,0,0,1,0,0,0,0,0,0,0,0,0,0,0,0,0,0,1,0,1,0,0,0,0,0,0,0,0,0,0,1,0,0,0,0,0,1,0,0,0,0,0,0,0,0,0,0,0,0,0,0,0,0,0,0,0,0,0,0,0,0,1,0,0,1,1,1,1,0,0,0,0,0,0,0,0,0,0,0]\n",
    "\n",
    "maj_vote_n = majority_vote([gb_pred_neurodegen, lr_pred_neurodegen, list(all_global_values['Pred Label'])])\n",
    "# [0,0,0,1,0,0,0,1,0,0,0,0,0,0,0,0,1,0,1,0,0,0,0,1,0,0,0,0,1,0,0,0,0,1,0,0,0,0,0,0,0,0,0,0,0,0,0,0,0,0,0,0,0,0,0,0,1,0,0,0,0,0,0,0,0,0,0,0,1,1,0,0,0,0,0,0,0,1,1,0,0,0,1,1,0,0,0,0,0,0,0,0,0,0,0,0,0,0,0,0,0,0,0,0,0,0,0,0,0,0,0,0,1,1,0,0,0,0,0,0,0,0,0,0,0,0,0,0,0,0,1,0,0,0,0,0,0,0,0,0,1,0,0,0,0,1,0,1,0,0,0,0,0,0,0,0,0,0,1,0,0,0,0,0,1,0,0,0,0,0,0,0,0,0,0,0,0,0,0,0,0,0,0,0,0,0,0,0,0,1,0,0,1,1,1,1,0,0,0,0,0,0,0,0,0,1,0]"
   ]
  },
  {
   "cell_type": "code",
   "execution_count": null,
   "id": "423e8d57",
   "metadata": {},
   "outputs": [],
   "source": [
    "gb_pred_amyloid = [0,0,0,1,0,0,0,1,0,0,0,0,0,0,0,0,1,0,1,0,0,0,0,0,0,0,0,0,1,0,0,0,0,1,0,0,0,0,0,0,0,0,0,0,0,0,0,0,0,0,0,0,0,0,0,0,1,0,0,0,0,0,0,0,0,0,0,0,1,1,0,0,0,0,1,0,0,1,1,0,0,0,1,1,0,0,0,0,0,0,0,0,0,0,0,0,0,0,0,0,0,0,0,0,0,0,0,0,0,0,0,0,0,0,0,0,0,0,0,0,0,1,0,0,0,0,0,0,0,0,1,0,0,0,0,0,0,0,0,0,1,0,0,0,0,1,0,1,0,0,0,0,0,0,0,0,0,0,1,0,0,0,0,0,1,0,0,0,0,0,0,1,0,1,0,0,0,0,0,0,0,0,0,0,0,0,0,0,0,1,0,0,1,1,1,1,0,0,0,0,0,0,0,0,0,1,0]\n",
    "lr_pred_amyloid = [0,0,0,0,0,0,0,1,0,0,0,0,0,0,0,0,1,0,1,0,0,0,0,1,0,0,0,0,1,1,0,0,0,1,0,0,0,0,0,0,0,0,0,0,0,0,0,0,0,0,0,1,0,0,0,0,1,0,0,0,0,0,0,0,0,0,0,0,1,1,0,0,0,0,0,0,0,1,1,0,0,0,1,1,0,0,0,0,0,0,0,0,1,0,0,0,0,0,0,0,0,0,0,0,0,0,0,0,0,0,0,0,1,1,0,0,0,0,0,0,0,0,0,0,0,0,0,0,0,0,1,0,0,0,0,0,1,0,0,1,1,0,1,1,0,1,0,1,0,0,0,0,1,0,0,0,0,0,1,0,0,0,0,1,1,0,0,0,0,0,0,0,0,0,0,0,0,1,0,0,0,0,0,0,0,0,0,0,0,1,0,0,1,1,1,1,0,0,0,0,0,0,0,0,1,1,0]\n",
    "mlp_pred_amyloid = [0,0,0,1,0,0,0,1,0,0,0,0,0,0,0,0,0,0,1,0,0,0,0,1,0,0,0,0,1,0,0,0,0,1,0,0,0,0,0,0,0,0,0,0,0,0,0,0,0,0,0,0,0,0,0,0,0,0,0,0,0,0,0,0,0,0,0,0,0,1,0,0,0,0,0,0,0,1,1,0,0,0,1,1,0,0,0,0,0,0,0,0,0,0,0,0,0,0,0,0,0,0,0,0,0,0,0,0,0,0,0,0,1,1,0,0,0,0,0,0,0,0,0,0,0,0,0,0,0,0,1,0,0,0,0,0,0,0,0,0,0,0,0,0,0,1,0,1,0,0,0,0,0,0,0,0,0,0,1,0,0,0,0,0,1,0,0,0,0,0,0,0,0,0,0,0,0,0,0,0,0,0,0,0,0,0,0,0,0,1,0,0,1,1,1,1,0,0,0,0,0,0,0,0,0,0,0]\n",
    "\n",
    "maj_vote_n = majority_vote([gb_pred_amyloid, lr_pred_amyloid, list(amyloid_atn_df['Pred Label'])])\n",
    "# [0,0,0,1,0,0,0,1,0,0,0,0,0,0,0,0,1,0,1,0,0,0,0,1,0,0,0,0,1,0,0,0,0,1,0,0,0,0,0,0,0,0,0,0,0,0,0,0,0,0,0,0,0,0,0,0,1,0,0,0,0,0,0,0,0,0,0,0,1,1,0,0,0,0,0,0,0,1,1,0,0,0,1,1,0,0,0,0,0,0,0,0,0,0,0,0,0,0,0,0,0,0,0,0,0,0,0,0,0,0,0,0,1,1,0,0,0,0,0,0,0,0,0,0,0,0,0,0,0,0,1,0,0,0,0,0,0,0,0,0,1,0,0,0,0,1,0,1,0,0,0,0,0,0,0,0,0,0,1,0,0,0,0,0,1,0,0,0,0,0,0,0,0,0,0,0,0,0,0,0,0,0,0,0,0,0,0,0,0,1,0,0,1,1,1,1,0,0,0,0,0,0,0,0,0,1,0]"
   ]
  },
  {
   "cell_type": "code",
   "execution_count": null,
   "id": "583051fc",
   "metadata": {},
   "outputs": [],
   "source": [
    "print(metrics.f1_score(list(all_global_values['GT Labels']),gb_pred_neurodegen))\n",
    "print(metrics.f1_score(list(all_global_values['GT Labels']),lr_pred_neurodegen))\n",
    "print(metrics.f1_score(list(all_global_values['GT Labels']),mlp_pred_neurodegen))\n",
    "print(metrics.f1_score(list(all_global_values['GT Labels']),maj_vote_n))"
   ]
  },
  {
   "cell_type": "code",
   "execution_count": null,
   "id": "50d67bfe-a60e-402b-9c3a-26d8c119e97b",
   "metadata": {},
   "outputs": [],
   "source": [
    "gt = classify_atn(all_global_values['GT Neurodegen Positive'],amyloid_atn_df['Abeta GT Positive'])\n",
    "\n",
    "\n",
    "\n",
    "pred = classify_atn(all_global_values['Pred1_sm']>threshold_n,amyloid_atn_df['Pred1_sm']>threshold_a)\n",
    "acc = metrics.accuracy_score(gt,pred)\n",
    "f1 = metrics.f1_score(gt,pred,average='macro')\n",
    "prec = metrics.precision_score(gt,pred,average='macro')\n",
    "recall = metrics.recall_score(gt,pred,average='macro')\n",
    "print('For ATN classification with MLP only, accuracy was {} and F1 was {} (Prec: {} | Rec: {})'.format(acc,f1,prec,recall))\n",
    "\n",
    "pred = classify_atn(gb_pred_neurodegen,amyloid_atn_df['Pred1_sm']>threshold_a)\n",
    "acc = metrics.accuracy_score(gt,pred)\n",
    "f1 = metrics.f1_score(gt,pred,average='macro')\n",
    "prec = metrics.precision_score(gt,pred,average='macro')\n",
    "recall = metrics.recall_score(gt,pred,average='macro')\n",
    "print('For ATN classification with MLP and GB, accuracy was {} and F1 was {} (Prec: {} | Rec: {})'.format(acc,f1,prec,recall))\n",
    "\n",
    "pred = classify_atn(lr_pred_neurodegen,amyloid_atn_df['Pred1_sm']>threshold_a)\n",
    "acc = metrics.accuracy_score(gt,pred)\n",
    "f1 = metrics.f1_score(gt,pred,average='macro')\n",
    "prec = metrics.precision_score(gt,pred,average='macro')\n",
    "recall = metrics.recall_score(gt,pred,average='macro')\n",
    "print('For ATN classification with MLP and LR, accuracy was {} and F1 was {} (Prec: {} | Rec: {})'.format(acc,f1,prec,recall))\n",
    "\n",
    "pred = classify_atn(maj_vote_n,amyloid_atn_df['Pred1_sm']>threshold_a)\n",
    "acc = metrics.accuracy_score(gt,pred)\n",
    "f1 = metrics.f1_score(gt,pred,average='macro')\n",
    "prec = metrics.precision_score(gt,pred,average='macro')\n",
    "recall = metrics.recall_score(gt,pred,average='macro')\n",
    "print('For ATN classification with MLP and majority vote, accuracy was {} and F1 was {} (Prec: {} | Rec: {})'.format(acc,f1,prec,recall))"
   ]
  },
  {
   "cell_type": "code",
   "execution_count": null,
   "id": "3ba57ff8-6731-4b44-a03a-1c28325881dc",
   "metadata": {
    "collapsed": true,
    "jupyter": {
     "outputs_hidden": true,
     "source_hidden": true
    },
    "tags": []
   },
   "outputs": [],
   "source": [
    "correct = 0\n",
    "miss = 0\n",
    "double_miss = 0\n",
    "n_miss = 0\n",
    "abeta_miss = 0\n",
    "\n",
    "atn_multiclass_gt = [] # 0=A-/N- | 1=A+/N- | 2=A-/N+ | 3=A+/N+\n",
    "atn_multiclass_pred = []\n",
    "for i in range(len(amyloid_atn_df)):\n",
    "    if amyloid_atn_df.iloc[i]['Abeta GT Positive'] and hip_vols_df.iloc[i]['GT Positive']:\n",
    "        atn_multiclass_gt.append(0)\n",
    "    elif amyloid_atn_df.iloc[i]['Abeta GT Positive'] and not hip_vols_df.iloc[i]['GT Positive']:\n",
    "        atn_multiclass_gt.append(1)\n",
    "    elif not amyloid_atn_df.iloc[i]['Abeta GT Positive'] and hip_vols_df.iloc[i]['GT Positive']:\n",
    "        atn_multiclass_gt.append(2)\n",
    "    else:\n",
    "        atn_multiclass_gt.append(3)\n",
    "        \n",
    "    if amyloid_atn_df.iloc[i]['Abeta Pred Positive'] and hip_vols_df.iloc[i]['Pred Positive']:\n",
    "        atn_multiclass_pred.append(0)\n",
    "    elif amyloid_atn_df.iloc[i]['Abeta Pred Positive'] and not hip_vols_df.iloc[i]['Pred Positive']:\n",
    "        atn_multiclass_pred.append(1)\n",
    "    elif not amyloid_atn_df.iloc[i]['Abeta Pred Positive'] and hip_vols_df.iloc[i]['Pred Positive']:\n",
    "        atn_multiclass_pred.append(2)\n",
    "    else:\n",
    "        atn_multiclass_pred.append(3)\n",
    "        \n",
    "    if False: # Accuracy is bad with unbalanced data\n",
    "        if (amyloid_atn_df.iloc[i]['Abeta GT Positive']==amyloid_atn_df.iloc[i]['Abeta Pred Positive']) and (hip_vols_df.iloc[i]['GT Positive']==hip_vols_df.iloc[i]['Pred Positive']):\n",
    "            correct += 1\n",
    "        elif (amyloid_atn_df.iloc[i]['Abeta GT Positive']!=amyloid_atn_df.iloc[i]['Abeta Pred Positive']) and (hip_vols_df.iloc[i]['GT Positive']!=hip_vols_df.iloc[i]['Pred Positive']):\n",
    "            double_miss += 1\n",
    "        else:\n",
    "            if (amyloid_atn_df.iloc[i]['Abeta GT Positive']!=amyloid_atn_df.iloc[i]['Abeta Pred Positive']):\n",
    "                abeta_miss += 1\n",
    "            else:\n",
    "                n_miss += 1\n",
    "            miss += 1\n",
    "\n",
    "precision = metrics.precision_score(atn_multiclass_gt,atn_multiclass_pred,average='macro')\n",
    "recall = metrics.recall_score(atn_multiclass_gt,atn_multiclass_pred,average='macro')\n",
    "f1 = metrics.f1_score(atn_multiclass_gt,atn_multiclass_pred,average='macro')\n",
    "mcc = metrics.matthews_corrcoef(atn_multiclass_gt,atn_multiclass_pred)\n",
    "auc = metrics.roc_auc_score(atn_multiclass_gt,atn_multiclass_pred,multi_class='ovr')\n",
    "print('Precision: {}'.format(precision))\n",
    "print('Recall: {}'.format(recall))\n",
    "print('F1 score is: {}'.format(f1))\n",
    "print('MCC score is: {}'.format(mcc))\n",
    "print('AUC score is: {}'.format(auc))\n",
    "       \n",
    "            \n",
    "if False:\n",
    "    print(\"Out of {} test sbjects, {} were ATN classified correctly, {} had one predicted biomarker incorrect and {} had both biomarkers incorrect\".format(len(hip_vols_df),correct,miss,double_miss))\n",
    "    print(\"Abeta miss only: {}\".format(abeta_miss))\n",
    "    print(\"N miss only: {}\".format(n_miss))\n",
    "    "
   ]
  }
 ],
 "metadata": {
  "kernelspec": {
   "display_name": "Python 3.9.12 ('selfsuper')",
   "language": "python",
   "name": "python3"
  },
  "language_info": {
   "codemirror_mode": {
    "name": "ipython",
    "version": 3
   },
   "file_extension": ".py",
   "mimetype": "text/x-python",
   "name": "python",
   "nbconvert_exporter": "python",
   "pygments_lexer": "ipython3",
   "version": "3.9.12"
  },
  "toc-autonumbering": true,
  "vscode": {
   "interpreter": {
    "hash": "a170c9671c9efe8f7b21c07d67db3c79909e8d2e12cd3ae19f971a9f73b65e2a"
   }
  }
 },
 "nbformat": 4,
 "nbformat_minor": 5
}
